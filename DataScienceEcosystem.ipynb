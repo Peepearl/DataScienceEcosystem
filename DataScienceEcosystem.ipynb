{
 "cells": [
  {
   "cell_type": "markdown",
   "id": "0fbbb985-4919-45dc-b381-0a2e0b0aab1d",
   "metadata": {},
   "source": [
    "# Data Science Tool and Ecosystem"
   ]
  },
  {
   "cell_type": "markdown",
   "id": "4a9b8dce-a58b-418b-aa0b-bf74c4037ffa",
   "metadata": {},
   "source": [
    "## In this notebook, Data Science Tools and Ecosystem are summarized."
   ]
  },
  {
   "cell_type": "markdown",
   "id": "630421f6-bf56-41b4-8622-f40fe352865e",
   "metadata": {},
   "source": [
    "## Objective\n",
    "- ### In this final assignment, you will:\n",
    "\n",
    "- ### Create a Jupyter Notebook\n",
    "\n",
    "- ### Insert code and markdown cells\n",
    "\n",
    "- ### Share your notebook through GitHub\n",
    "\n"
   ]
  },
  {
   "cell_type": "markdown",
   "id": "2cb13c97-195f-41ee-bfa3-526dc392f799",
   "metadata": {},
   "source": [
    "#### Some of the popular languages that Data Scientists use are:\n",
    "\n",
    "#### 1. Python\n",
    "#### 2. SQL\n",
    "#### 3. Scala"
   ]
  },
  {
   "cell_type": "markdown",
   "id": "00b6d8db-a4ce-45f3-83e6-4d39e08ab1d8",
   "metadata": {},
   "source": [
    "#### Some of the commonly used libraries used by Data Scientists include:\n",
    "##### 1. Pandas\n",
    "##### 2. seaborn\n",
    "##### 3. matplotlib\n",
    "##### 4. numpy\n"
   ]
  },
  {
   "cell_type": "markdown",
   "id": "88e1496c-e5c3-4c65-aa12-9926c3a4391b",
   "metadata": {},
   "source": [
    "#### Data Science Tools.\n",
    "##### 1. Hue\n",
    "##### 2.Tensorlow\n",
    "##### 3. Hadoop\n",
    "##### 4. Apache spark\n",
    "##### 5. Pixie Dust\n",
    "\n"
   ]
  },
  {
   "cell_type": "markdown",
   "id": "388a00e0-a261-46ac-a7b1-023d37b38575",
   "metadata": {},
   "source": [
    "### Below are a few examples of evaluating arithmetic expressions in Python.\n",
    "\n"
   ]
  },
  {
   "cell_type": "code",
   "execution_count": 18,
   "id": "ab54fa9a-a0f1-4552-9561-814c8c16265f",
   "metadata": {},
   "outputs": [
    {
     "data": {
      "text/plain": [
       "25"
      ]
     },
     "execution_count": 18,
     "metadata": {},
     "output_type": "execute_result"
    }
   ],
   "source": [
    "5 * 5"
   ]
  },
  {
   "cell_type": "code",
   "execution_count": 20,
   "id": "ba35310b-fdf4-4f54-88a9-726d0fa98cd0",
   "metadata": {},
   "outputs": [
    {
     "data": {
      "text/plain": [
       "17.0"
      ]
     },
     "execution_count": 20,
     "metadata": {},
     "output_type": "execute_result"
    }
   ],
   "source": [
    "#This a simple arithmetic expression to mutiply then add integers\n",
    "(3*4)+5.\n"
   ]
  },
  {
   "cell_type": "code",
   "execution_count": 22,
   "id": "eebf6da2-0121-43e8-b90f-9d47732a7bc6",
   "metadata": {},
   "outputs": [
    {
     "name": "stdout",
     "output_type": "stream",
     "text": [
      "3.3333333333333335\n"
     ]
    }
   ],
   "source": [
    "minutes = 200\n",
    "hours = minutes / 60\n",
    "print(hours)"
   ]
  },
  {
   "cell_type": "markdown",
   "id": "fa0324a3-34cb-4f02-816e-d0fc5c6a5867",
   "metadata": {},
   "source": [
    "## Author\n",
    "### Mamman Patience"
   ]
  },
  {
   "cell_type": "code",
   "execution_count": null,
   "id": "b06857f8-ceef-4290-ac78-00a955cf6109",
   "metadata": {},
   "outputs": [],
   "source": []
  }
 ],
 "metadata": {
  "kernelspec": {
   "display_name": "Python 3 (ipykernel)",
   "language": "python",
   "name": "python3"
  },
  "language_info": {
   "codemirror_mode": {
    "name": "ipython",
    "version": 3
   },
   "file_extension": ".py",
   "mimetype": "text/x-python",
   "name": "python",
   "nbconvert_exporter": "python",
   "pygments_lexer": "ipython3",
   "version": "3.11.4"
  }
 },
 "nbformat": 4,
 "nbformat_minor": 5
}
